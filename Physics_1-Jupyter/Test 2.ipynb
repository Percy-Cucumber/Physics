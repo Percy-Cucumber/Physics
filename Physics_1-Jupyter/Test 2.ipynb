{
 "cells": [
  {
   "cell_type": "markdown",
   "metadata": {},
   "source": [
    "# Physics 1 -- Test 2\n",
    "*Adam Karl Achs*"
   ]
  },
  {
   "cell_type": "code",
   "execution_count": null,
   "metadata": {},
   "outputs": [
    {
     "data": {
      "application/javascript": [
       "if (typeof Jupyter !== \"undefined\") {require.undef(\"nbextensions/vpython_libraries/glow.min\");}else{element.textContent = ' ';}"
      ],
      "text/plain": [
       "<IPython.core.display.Javascript object>"
      ]
     },
     "metadata": {},
     "output_type": "display_data"
    },
    {
     "data": {
      "application/javascript": [
       "if (typeof Jupyter !== \"undefined\") {require.undef(\"nbextensions/vpython_libraries/glowcomm\");}else{element.textContent = ' ';}"
      ],
      "text/plain": [
       "<IPython.core.display.Javascript object>"
      ]
     },
     "metadata": {},
     "output_type": "display_data"
    },
    {
     "data": {
      "application/javascript": [
       "if (typeof Jupyter !== \"undefined\") {require.undef(\"nbextensions/vpython_libraries/jquery-ui.custom.min\");}else{element.textContent = ' ';}"
      ],
      "text/plain": [
       "<IPython.core.display.Javascript object>"
      ]
     },
     "metadata": {},
     "output_type": "display_data"
    },
    {
     "data": {
      "application/javascript": [
       "if (typeof Jupyter !== \"undefined\") {require([\"nbextensions/vpython_libraries/glow.min\"], function(){console.log(\"GLOW LOADED\");});}else{element.textContent = ' ';}"
      ],
      "text/plain": [
       "<IPython.core.display.Javascript object>"
      ]
     },
     "metadata": {},
     "output_type": "display_data"
    },
    {
     "data": {
      "application/javascript": [
       "if (typeof Jupyter !== \"undefined\") {require([\"nbextensions/vpython_libraries/glowcomm\"], function(){console.log(\"GLOWCOMM LOADED\");});}else{element.textContent = ' ';}"
      ],
      "text/plain": [
       "<IPython.core.display.Javascript object>"
      ]
     },
     "metadata": {},
     "output_type": "display_data"
    },
    {
     "data": {
      "application/javascript": [
       "if (typeof Jupyter !== \"undefined\") {require([\"nbextensions/vpython_libraries/jquery-ui.custom.min\"], function(){console.log(\"JQUERY LOADED\");});}else{element.textContent = ' ';}"
      ],
      "text/plain": [
       "<IPython.core.display.Javascript object>"
      ]
     },
     "metadata": {},
     "output_type": "display_data"
    },
    {
     "data": {
      "text/html": [
       "<div id=\"glowscript\" class=\"glowscript\"></div>"
      ],
      "text/plain": [
       "<IPython.core.display.HTML object>"
      ]
     },
     "metadata": {},
     "output_type": "display_data"
    },
    {
     "data": {
      "application/javascript": [
       "if (typeof Jupyter !== \"undefined\") { window.__context = { glowscript_container: $(\"#glowscript\").removeAttr(\"id\")};}else{ element.textContent = ' ';}"
      ],
      "text/plain": [
       "<IPython.core.display.Javascript object>"
      ]
     },
     "metadata": {},
     "output_type": "display_data"
    }
   ],
   "source": [
    "# Importing everything\n",
    "import time                                            # import time to set code run length\n",
    "from vpython import *                                  # import VPython for actual problem modeling\n",
    "\n",
    "# Setting up the timer\n",
    "max_time = int(120)                                    # how long I want this code to run (2 min)\n",
    "start_time = time.time()                               # record initial time\n",
    "\n",
    "# Setting up graphs\n",
    "position_graph_x = gcurve(color=color.yellow)          # x position = yellow\n",
    "position_graph_y = gcurve(color=color.orange)          # y position = orange\n",
    "position_graph_z = gcurve(color=color.purple)          # z position = purple\n",
    "kinetic_graph = gcurve(color=color.red)                # kinetic energy = red\n",
    "potential_graph = gcurve(color=color.green)            # potential energy = green\n",
    "total_graph = gcurve(color=color.blue)                 # total energy = blue\n",
    "\n",
    "# Making it look all pretty\n",
    "scene.background = color.white\n",
    "scene.title = '\\t\\t<font size=\"+2\"> <b> Spaceship Orbiting Earth <b> </font>'\n",
    "\n",
    "# Defining more stuff\n",
    "G = 6.7*pow(10,-11)                                    # Newton's gravitational constant\n",
    "t= 0                                                   # starting time\n",
    "dt = 1                                                 # time step\n",
    "g = 9.81                                               # average force of earth's gravity near the surface (spacecraft isn't far enough for this value to change significantly)\n",
    "earth_r = 6371000                                      # radius of the earth\n",
    "ship_r = 150000                                        # radius of the spaceship\n",
    "ship_h_crust = 408000                                  # height of spaceship above earth's surface\n",
    "ship_h_total = ship_h_crust + earth_r                  # height of spaceship from centre of earth's mass\n",
    "\n",
    "# Creating the objects\n",
    "g1 = sphere(pos=vec(0,0,0), radius=earth_r, color=color.blue)            # actual radius of the earth\n",
    "g2 = sphere(pos=vec(ship_h_total,0,0), radius=ship_r, color=color.red)   # height = radius of the earth + height of ISS, radius = 150km (otherwise too small to be visable)\n",
    "\n",
    "# Setting the masses\n",
    "g1_m = 5973600000000000000000000                       # mass of the earth\n",
    "g2_m = 15000                                           # mass of the spaceship\n",
    "\n",
    "# Initial velocity\n",
    "g1_v = vec(0,0,0)                                      # initial velocity of the earth\n",
    "g2_v = vec(0,7660,0)                                   # initial velocity of the spacecraft (same as velocity of ISS)\n",
    "\n",
    "# Initial momentum\n",
    "g1_p = g1_v * g1_m                                     # initial momentum of the planet\n",
    "g2_p = g2_v * g2_m                                     # initial velocity of the spaceship\n",
    "\n",
    "# Defining the while loop for time\n",
    "while (time.time() - start_time) < max_time:           # run for time determined above\n",
    "    rate(100)                                          # rate at which th program runs\n",
    "    t = t + 1                                          # incrementing time (points calculated)\n",
    "    r = g2.pos - g1.pos                                # distance between objects as vector\n",
    "    magF = G*g1_m*g2_m/(mag(r)*mag(r))                 # gravitational force\n",
    "    rhat = vec(r.x/mag(r), r.y/mag(r), r.z/mag(r))     # unit vector\n",
    "    F = magF*rhat                                      # force = magnitude(F) * direction(F)\n",
    "    g1_p = g1_p + F*dt                                 # updating earth's momentum\n",
    "    g2_p = g2_p - F*dt                                 # updating spaceship's momentum\n",
    "    g1.pos = g1.pos + (g1_p/g1_m)*dt                   # updating earth's position\n",
    "    g2.pos = g2.pos + (g2_p/g2_m)*dt                   # updating spaceship's position\n",
    "    distance = mag(g2.pos - g1.pos)                    # distance between centre of earth's mass and centre of spaceship's mass (ie. h)\n",
    "    velocity = g2_p/g2_m                               # velocity of spaceship at that precise moment in time\n",
    "    \n",
    "# Getting values for graph    \n",
    "    v2 = mag(velocity)**2                              # value for magnitude of spaceship's velocity squared\n",
    "    kinetic = (1/2)*g2_m*v2                            # Ek = (1/2)mv^2\n",
    "    potential = g2_m*g*distance                        # Ug = mgh\n",
    "    total = kinetic + potential                        # Etotal = Ek + Ug\n",
    "    \n",
    "# Graphing stuff\n",
    "    position_graph_x.plot(pos=(t,g1_p.x))              # x position /t\n",
    "    position_graph_y.plot(pos=(t,g1_p.y))              # y position / t\n",
    "    position_graph_z.plot(pos=(t,g1_p.z))              # y position / t\n",
    "#    kinetic_graph.plot(pos=(t,kinetic))                # kinetic energy / t\n",
    "#    potential_graph.plot(pos=(t,potential))            # potential energy / t\n",
    "#    total_graph.plot(pos=(t,total))                    # total energy / t\n",
    "    \n",
    "# Live updates while simulation is running\n",
    "    scene.caption = 'Kinetic Energy: '+str(kinetic)+'\\nPotential Energy: '+str(potential)+ '\\nTotal Energy: '+str(total)+ '\\nTime: '+str((time.time() - start_time))+ '\\nPoints: '+str(t)\n",
    "\n"
   ]
  }
 ],
 "metadata": {
  "kernelspec": {
   "display_name": "VPython",
   "language": "python",
   "name": "vpython"
  },
  "language_info": {
   "codemirror_mode": {
    "name": "ipython",
    "version": 3
   },
   "file_extension": ".py",
   "mimetype": "text/x-python",
   "name": "python",
   "nbconvert_exporter": "python",
   "pygments_lexer": "ipython3",
   "version": "3.7.1"
  }
 },
 "nbformat": 4,
 "nbformat_minor": 2
}
