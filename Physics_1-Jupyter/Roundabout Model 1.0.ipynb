{
 "cells": [
  {
   "cell_type": "markdown",
   "metadata": {},
   "source": [
    "# Elevator Code (based off elevator code)\n",
    "*Adam Achs*"
   ]
  },
  {
   "cell_type": "code",
   "execution_count": null,
   "metadata": {},
   "outputs": [],
   "source": [
    "# Standard imports, now we got csv too so we can work with the file from logger pro\n",
    "import vpython as vp\n",
    "import csv\n",
    "\n",
    "# Make it look cool (Just setting the scene)\n",
    "vp.scene.background = vp.color.white\n",
    "vp.scene.title = '\\t\\t<b>Roundabout Model \\n\\t\\t\\tHeight: 11.04m<b>'\n",
    "vp.scene.userzoom = False\n",
    "vp.scene.center = vp.vec(0,6,0)\n",
    "\n",
    "# Initial Conditions\n",
    "v = vp.vec(0,0,0)\n",
    "a = vp.vec(0,0,0)\n",
    "t = 0\n",
    "\n",
    "# This is just the point in the csv file where the elevator started going down (for the loop)\n",
    "index = 1500\n",
    "\n",
    "# Opening the csv file in read mode (Path is set to where the file is located on my laptop!)\n",
    "csvfile = open('/Users/adamachs/Desktop/Adams_Stuff/Quest/Physics_1/sensoroutput/318i_roundabout.csv', 'r')\n",
    "# Using the csv module to read the file and place , as delimiter\n",
    "csvreader = csv.reader(csvfile, delimiter=',', quotechar='|')\n",
    "# Making the read file into a list so it's easier to work with\n",
    "mylist = list(csvreader)\n",
    "\n",
    "# Creating the Objects\n",
    "elevator = vp.box(pos=vp.vec(0,11.04,0), size=vp.vec(3,3,0.2), color=vp.color.blue)\n",
    "ceiling = vp.box(pos=vp.vec(0,12.64,0), size=vp.vec(4,0.2,0.2), color=vp.color.gray(0.4))\n",
    "wall = vp.box(pos=vp.vec(-1.6,5.52,0), size=vp.vec(0.2,14.04,0.2))\n",
    "floor = vp.box(pos=vp.vec(0,-1.6,0), size=vp.vec(9,0.2,0.2), color=vp.color.gray(0.4))\n",
    "\n",
    "# Graphs\n",
    "gv = vp.gcurve(color=vp.color.red)\n",
    "ga = vp.gcurve(color=vp.color.blue)\n",
    "\n",
    "# Time counter\n",
    "ti = 99.140\n",
    "tim = 0\n",
    "\n",
    "# List for checking the data\n",
    "dtt = []\n",
    "\n",
    "# Normal Loop, but now looping over index(just a number) for the 'row' number (item in list)\n",
    "while index < 3599:\n",
    "    vp.rate(100)\n",
    "    \n",
    "#     Extracting the data which is datapoints with measurements for each time\n",
    "    mydata = mylist[index]\n",
    "    \n",
    "#     This is the 1st entry for each measurement, which is the timestamp\n",
    "    mytime = mydata[0]\n",
    "    \n",
    "#     Now I'm extracting the minutes, seconds and milliseconds from the timestamp and converting to seconds\n",
    "    tim = float(mytime[15:17])*60 + float(mytime[18:20]) + float(mytime[21:24])*0.001\n",
    "    \n",
    "#     Letting the change in time be the new time(tim) minus the old time(ti)\n",
    "    dt = tim - ti\n",
    "    \n",
    "#     This is just letting the y coordinate in my acceleration vector be the datapoint from the set\n",
    "# Also we have to subtract the base interference of 0.0133449\n",
    "    a = vp.vec(0,-(float(mydata[6])-0.0133449)*9.81,0)\n",
    "    \n",
    "#     Going to velocity from the acceleration, by multiplying by the change in time\n",
    "    v = v + a*dt\n",
    "    \n",
    "#     Updating the position by the change in velocity\n",
    "    elevator.pos = elevator.pos + v*dt\n",
    "    \n",
    "#     Here we're just updating some values to get our loop going and keep track of time.\n",
    "    index = index + 1\n",
    "    t += dt\n",
    "    ti = tim\n",
    "    \n",
    "#     Adding to the list for dt, and plotting the graphs\n",
    "    dtt.append(dt)\n",
    "    gv.plot(t, v.y)\n",
    "    ga.plot(t, a.y)\n",
    "    \n",
    "#     Live update Values while the elevator is going\n",
    "    vp.scene.caption = 'Acceleration: '+str(round(a.y,4))+'\\nHeight: '+str(round(elevator.pos.y, 2))+'\\nTime: '+str(t)\n",
    "\n",
    "# Print the list of all time changes for verification\n",
    "# print(dtt)\n",
    "csvfile.close()"
   ]
  },
  {
   "cell_type": "markdown",
   "metadata": {},
   "source": [
    "# Roundabout Code"
   ]
  },
  {
   "cell_type": "code",
   "execution_count": null,
   "metadata": {},
   "outputs": [],
   "source": [
    "# Importing stuff\n",
    "import vpython as vp\n",
    "import csv"
   ]
  },
  {
   "cell_type": "code",
   "execution_count": null,
   "metadata": {},
   "outputs": [],
   "source": [
    "# Make it look cool (just setting the scene)\n",
    "vp.scene.background = vp.color.white\n",
    "vp.scene.title = '\\t\\t<b>Roundabout Model \\n\\t\\t\\tHeight: 11.04m<b>'\n",
    "vp.scene.userzoom = False\n",
    "vp.scene.center = vp.vec(0,0,0)"
   ]
  },
  {
   "cell_type": "code",
   "execution_count": null,
   "metadata": {},
   "outputs": [],
   "source": [
    "# This is just the point in the csv file where the elevator started going down (for the loop)\n",
    "index = 1\n",
    "\n",
    "# Opening the csv file in read mode (Path is set to where the file is located on my laptop!)\n",
    "csvfile = open('/Users/adamachs/Desktop/Adams_Stuff/Quest/Physics_1/sensoroutput/elevatordata.csv', 'r')\n",
    "# Using the csv module to read the file and place , as delimiter\n",
    "csvreader = csv.reader(csvfile, delimiter=',', quotechar='|')\n",
    "# Making the read file into a list so it's easier to work with\n",
    "mylist = list(csvreader)"
   ]
  },
  {
   "cell_type": "code",
   "execution_count": null,
   "metadata": {},
   "outputs": [],
   "source": []
  },
  {
   "cell_type": "code",
   "execution_count": null,
   "metadata": {},
   "outputs": [],
   "source": []
  },
  {
   "cell_type": "code",
   "execution_count": null,
   "metadata": {},
   "outputs": [],
   "source": [
    "# Defining stuff before the loop\n",
    "theta_ix = 0\n",
    "theta_iy = 0\n",
    "theta_iz = 0\n",
    "Fgx = #calculate Fg in x direction\n",
    "Fgy = #calculate Fg in x direction\n",
    "Fgz = #calculate Fg in x direction\n",
    "gyro_x = \n",
    "gyro_y = \n",
    "gyro_z = "
   ]
  },
  {
   "cell_type": "code",
   "execution_count": null,
   "metadata": {},
   "outputs": [],
   "source": []
  },
  {
   "cell_type": "code",
   "execution_count": null,
   "metadata": {},
   "outputs": [],
   "source": [
    "# Defining stuff in the loop\n",
    "Fgx = #calculate Fg in x direction\n",
    "Fgy = #calculate Fg in x direction\n",
    "Fgz = #calculate Fg in x direction\n",
    "gyro_x = #take from data\n",
    "gyro_y = #take from data\n",
    "gyro_z = #take from data\n",
    "timestep = #calculate from data"
   ]
  },
  {
   "cell_type": "code",
   "execution_count": null,
   "metadata": {},
   "outputs": [],
   "source": [
    "theta_fx = theta_ix + gyro_x * timestep\n",
    "theta_ix = theta_fx\n",
    "\n",
    "theta_fy = theta_iy + gyro_y * timestep\n",
    "theta_iy = theta_fy\n",
    "\n",
    "theta_fz = theta_iz + gyro_z * timestep\n",
    "theta_iz = theta_fz"
   ]
  },
  {
   "cell_type": "code",
   "execution_count": null,
   "metadata": {},
   "outputs": [],
   "source": [
    "Fgx2 = Fgx**2\n",
    "Fgy2 = Fgy**2\n",
    "Fgz2 = Fgz**2\n",
    "Fg = sqrt(Fgx2+Fgy2+Fgz2)"
   ]
  },
  {
   "cell_type": "code",
   "execution_count": null,
   "metadata": {},
   "outputs": [],
   "source": [
    "F = Fg<cos(theta_fx),cos(theta_fy),cos(theta_fz)>"
   ]
  },
  {
   "cell_type": "code",
   "execution_count": null,
   "metadata": {},
   "outputs": [],
   "source": [
    "F = F*9.81    # going from units of g to m/s^2"
   ]
  },
  {
   "cell_type": "code",
   "execution_count": null,
   "metadata": {},
   "outputs": [],
   "source": []
  },
  {
   "cell_type": "markdown",
   "metadata": {},
   "source": [
    "other group used the \"yaw\" readings to update the car's heading\n",
    "- may help solve some of our problems"
   ]
  }
 ],
 "metadata": {
  "kernelspec": {
   "display_name": "VPython",
   "language": "python",
   "name": "vpython"
  },
  "language_info": {
   "codemirror_mode": {
    "name": "ipython",
    "version": 3
   },
   "file_extension": ".py",
   "mimetype": "text/x-python",
   "name": "python",
   "nbconvert_exporter": "python",
   "pygments_lexer": "ipython3",
   "version": "3.7.1"
  }
 },
 "nbformat": 4,
 "nbformat_minor": 2
}
