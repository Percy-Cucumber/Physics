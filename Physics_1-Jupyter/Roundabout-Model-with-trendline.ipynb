{
 "cells": [
  {
   "cell_type": "code",
   "execution_count": 1,
   "metadata": {},
   "outputs": [
    {
     "data": {
      "application/javascript": [
       "if (typeof Jupyter !== \"undefined\") {require.undef(\"nbextensions/vpython_libraries/glow.min\");}else{element.textContent = ' ';}"
      ],
      "text/plain": [
       "<IPython.core.display.Javascript object>"
      ]
     },
     "metadata": {},
     "output_type": "display_data"
    },
    {
     "data": {
      "application/javascript": [
       "if (typeof Jupyter !== \"undefined\") {require.undef(\"nbextensions/vpython_libraries/glowcomm\");}else{element.textContent = ' ';}"
      ],
      "text/plain": [
       "<IPython.core.display.Javascript object>"
      ]
     },
     "metadata": {},
     "output_type": "display_data"
    },
    {
     "data": {
      "application/javascript": [
       "if (typeof Jupyter !== \"undefined\") {require.undef(\"nbextensions/vpython_libraries/jquery-ui.custom.min\");}else{element.textContent = ' ';}"
      ],
      "text/plain": [
       "<IPython.core.display.Javascript object>"
      ]
     },
     "metadata": {},
     "output_type": "display_data"
    },
    {
     "data": {
      "application/javascript": [
       "if (typeof Jupyter !== \"undefined\") {require([\"nbextensions/vpython_libraries/glow.min\"], function(){console.log(\"GLOW LOADED\");});}else{element.textContent = ' ';}"
      ],
      "text/plain": [
       "<IPython.core.display.Javascript object>"
      ]
     },
     "metadata": {},
     "output_type": "display_data"
    },
    {
     "data": {
      "application/javascript": [
       "if (typeof Jupyter !== \"undefined\") {require([\"nbextensions/vpython_libraries/glowcomm\"], function(){console.log(\"GLOWCOMM LOADED\");});}else{element.textContent = ' ';}"
      ],
      "text/plain": [
       "<IPython.core.display.Javascript object>"
      ]
     },
     "metadata": {},
     "output_type": "display_data"
    },
    {
     "data": {
      "application/javascript": [
       "if (typeof Jupyter !== \"undefined\") {require([\"nbextensions/vpython_libraries/jquery-ui.custom.min\"], function(){console.log(\"JQUERY LOADED\");});}else{element.textContent = ' ';}"
      ],
      "text/plain": [
       "<IPython.core.display.Javascript object>"
      ]
     },
     "metadata": {},
     "output_type": "display_data"
    },
    {
     "data": {
      "text/html": [
       "<div id=\"glowscript\" class=\"glowscript\"></div>"
      ],
      "text/plain": [
       "<IPython.core.display.HTML object>"
      ]
     },
     "metadata": {},
     "output_type": "display_data"
    },
    {
     "data": {
      "application/javascript": [
       "if (typeof Jupyter !== \"undefined\") { window.__context = { glowscript_container: $(\"#glowscript\").removeAttr(\"id\")};}else{ element.textContent = ' ';}"
      ],
      "text/plain": [
       "<IPython.core.display.Javascript object>"
      ]
     },
     "metadata": {},
     "output_type": "display_data"
    },
    {
     "ename": "ValueError",
     "evalue": "could not convert string to float: ",
     "output_type": "error",
     "traceback": [
      "\u001b[0;31m---------------------------------------------------------------------------\u001b[0m",
      "\u001b[0;31mValueError\u001b[0m                                Traceback (most recent call last)",
      "\u001b[0;32m<ipython-input-1-f3691553565d>\u001b[0m in \u001b[0;36m<module>\u001b[0;34m\u001b[0m\n\u001b[1;32m     44\u001b[0m     \u001b[0mlistfile\u001b[0m \u001b[0;34m=\u001b[0m \u001b[0mlistreader\u001b[0m\u001b[0;34m[\u001b[0m\u001b[0mindex\u001b[0m\u001b[0;34m]\u001b[0m\u001b[0;34m\u001b[0m\u001b[0;34m\u001b[0m\u001b[0m\n\u001b[1;32m     45\u001b[0m     \u001b[0mtimelist\u001b[0m \u001b[0;34m=\u001b[0m \u001b[0mlistfile\u001b[0m\u001b[0;34m[\u001b[0m\u001b[0;36m0\u001b[0m\u001b[0;34m]\u001b[0m\u001b[0;34m\u001b[0m\u001b[0;34m\u001b[0m\u001b[0m\n\u001b[0;32m---> 46\u001b[0;31m     \u001b[0mtf\u001b[0m \u001b[0;34m=\u001b[0m \u001b[0mfloat\u001b[0m\u001b[0;34m(\u001b[0m\u001b[0mtimelist\u001b[0m\u001b[0;34m[\u001b[0m\u001b[0;36m15\u001b[0m\u001b[0;34m:\u001b[0m\u001b[0;36m17\u001b[0m\u001b[0;34m]\u001b[0m\u001b[0;34m)\u001b[0m\u001b[0;34m*\u001b[0m\u001b[0;36m60\u001b[0m \u001b[0;34m+\u001b[0m \u001b[0mfloat\u001b[0m\u001b[0;34m(\u001b[0m\u001b[0mtimelist\u001b[0m\u001b[0;34m[\u001b[0m\u001b[0;36m18\u001b[0m\u001b[0;34m:\u001b[0m\u001b[0;36m20\u001b[0m\u001b[0;34m]\u001b[0m\u001b[0;34m)\u001b[0m \u001b[0;34m+\u001b[0m \u001b[0mfloat\u001b[0m\u001b[0;34m(\u001b[0m\u001b[0mtimelist\u001b[0m\u001b[0;34m[\u001b[0m\u001b[0;36m21\u001b[0m\u001b[0;34m:\u001b[0m\u001b[0;36m24\u001b[0m\u001b[0;34m]\u001b[0m\u001b[0;34m)\u001b[0m\u001b[0;34m*\u001b[0m\u001b[0;36m0.001\u001b[0m\u001b[0;34m\u001b[0m\u001b[0;34m\u001b[0m\u001b[0m\n\u001b[0m\u001b[1;32m     47\u001b[0m     \u001b[0mdt\u001b[0m \u001b[0;34m=\u001b[0m \u001b[0mtf\u001b[0m \u001b[0;34m-\u001b[0m \u001b[0mti\u001b[0m\u001b[0;34m\u001b[0m\u001b[0;34m\u001b[0m\u001b[0m\n\u001b[1;32m     48\u001b[0m \u001b[0;34m\u001b[0m\u001b[0m\n",
      "\u001b[0;31mValueError\u001b[0m: could not convert string to float: "
     ]
    }
   ],
   "source": [
    "import csv\n",
    "import vpython as vp\n",
    "\n",
    "def trendliney(i):\n",
    "    return 2e-5*i+0.0019\n",
    "\n",
    "def trendlinex(i):\n",
    "    return 0.0002*i + 0.1622\n",
    "\n",
    "t = 0\n",
    "ti = 0\n",
    "index = 0\n",
    "\n",
    "vp.scene.background = color=vp.color.white\n",
    "\n",
    "csvfile = open('318i_roundabout.csv', 'r')\n",
    "reader = csv.reader(csvfile, delimiter=',', quotechar='|')\n",
    "listreader = list(reader)\n",
    "\n",
    "# Objects\n",
    "car = vp.box(pos=vp.vec(0,0,0), size=vp.vec(1,2,0.2), color=vp.vec(0.4,0.6,0), make_trail=True)\n",
    "xarrow = vp.arrow(pos=car.pos, shaftwidth=0.3, length=2)\n",
    "yarrow = vp.arrow(pos=car.pos, shaftwidth=0.3, length=2)\n",
    "zarrow = vp.arrow(pos=car.pos, shaftwidth=0.3, length=2)\n",
    "\n",
    "bar = vp.box(pos=vp.vec(-9.5,-1,0), size=vp.vec(19,0.4,0.4), color=vp.color.black)\n",
    "\n",
    "gv = vp.gcurve(color=vp.vec(0,0.3,0.7))\n",
    "\n",
    "iay = vp.gcurve(color=vp.vec(0,0.3,0.7))\n",
    "iax = vp.gcurve(color=vp.vec(0,0.3,0.7))\n",
    "iaz = vp.gcurve(color=vp.vec(0,0.3,0.7))\n",
    "\n",
    "yi = vp.vec(0,1,0)\n",
    "xi = vp.vec(1,0,0)\n",
    "zi = vp.vec(0,0,1)\n",
    "\n",
    "yvi = 0\n",
    "\n",
    "while index < 1436:\n",
    "    vp.rate(20)\n",
    "\n",
    "#     Timestamp /dt\n",
    "    listfile = listreader[index]\n",
    "    timelist = listfile[0]\n",
    "    tf = float(timelist[15:17])*60 + float(timelist[18:20]) + float(timelist[21:24])*0.001\n",
    "    dt = tf - ti\n",
    "    \n",
    "    t += dt\n",
    "\n",
    "#     Acces acceleration\n",
    "    accelX = (float(listfile[4])-trendlinex(index))*(9.81)\n",
    "    accelY = (float(listfile[5])-trendliney(index))*(9.81)\n",
    "    accelZ = (float(listfile[6]))*(9.81)\n",
    "    \n",
    "    gyroX = float(listfile[7])*dt\n",
    "    gyroY = float(listfile[8])*dt\n",
    "    gyroZ = float(listfile[9])*dt\n",
    "    \n",
    "    yf = vp.rotate(vp.rotate(yi, gyroY, xi),gyroZ, zi)\n",
    "    xf = vp.rotate(vp.rotate(xi, gyroX, yi), gyroZ, zi)\n",
    "    zf = vp.cross(xi, yi)\n",
    "    \n",
    "    yhat = vp.norm(yf)\n",
    "    xhat = vp.norm(xf)\n",
    "    zhat = vp.norm(zf)\n",
    "    \n",
    "    yv = yhat*yvi + yhat*accelY*dt + xhat*accelX*dt\n",
    "#     xv = xhat*accelX*dt\n",
    "    zv = zhat*accelZ*dt\n",
    "    \n",
    "    car.pos = car.pos + (yv+zv)*dt\n",
    "    yarrow.pos = car.pos\n",
    "    xarrow.pos = car.pos\n",
    "    zarrow.pos = car.pos\n",
    "    \n",
    "    car.axis = xhat\n",
    "    yarrow.axis = yhat\n",
    "    xarrow.axis = xhat\n",
    "    zarrow.axis = zhat\n",
    "    \n",
    "    gv.plot(t, vp.mag(yv))\n",
    "\n",
    "    vp.scene.caption = 'Time: ' + str(t)\n",
    "    \n",
    "    yi = yf\n",
    "    xi = xf\n",
    "    zi = zf\n",
    "    \n",
    "    yvi = vp.mag(yv)\n",
    "    \n",
    "    ti = tf\n",
    "    index +=1\n",
    "\n",
    "csvfile.close()"
   ]
  },
  {
   "cell_type": "code",
   "execution_count": null,
   "metadata": {},
   "outputs": [],
   "source": [
    "\n"
   ]
  },
  {
   "cell_type": "code",
   "execution_count": null,
   "metadata": {},
   "outputs": [],
   "source": []
  }
 ],
 "metadata": {
  "kernelspec": {
   "display_name": "VPython",
   "language": "python",
   "name": "vpython"
  },
  "language_info": {
   "codemirror_mode": {
    "name": "ipython",
    "version": 3
   },
   "file_extension": ".py",
   "mimetype": "text/x-python",
   "name": "python",
   "nbconvert_exporter": "python",
   "pygments_lexer": "ipython3",
   "version": "3.7.1"
  }
 },
 "nbformat": 4,
 "nbformat_minor": 2
}
