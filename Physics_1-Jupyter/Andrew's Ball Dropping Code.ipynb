{
 "cells": [
  {
   "cell_type": "markdown",
   "metadata": {},
   "source": [
    "# Andrew's Ball Dropping Code"
   ]
  },
  {
   "cell_type": "code",
   "execution_count": 1,
   "metadata": {},
   "outputs": [
    {
     "data": {
      "application/javascript": [
       "if (typeof Jupyter !== \"undefined\") {require.undef(\"nbextensions/vpython_libraries/glow.min\");}else{element.textContent = ' ';}"
      ],
      "text/plain": [
       "<IPython.core.display.Javascript object>"
      ]
     },
     "metadata": {},
     "output_type": "display_data"
    },
    {
     "data": {
      "application/javascript": [
       "if (typeof Jupyter !== \"undefined\") {require.undef(\"nbextensions/vpython_libraries/glowcomm\");}else{element.textContent = ' ';}"
      ],
      "text/plain": [
       "<IPython.core.display.Javascript object>"
      ]
     },
     "metadata": {},
     "output_type": "display_data"
    },
    {
     "data": {
      "application/javascript": [
       "if (typeof Jupyter !== \"undefined\") {require.undef(\"nbextensions/vpython_libraries/jquery-ui.custom.min\");}else{element.textContent = ' ';}"
      ],
      "text/plain": [
       "<IPython.core.display.Javascript object>"
      ]
     },
     "metadata": {},
     "output_type": "display_data"
    },
    {
     "data": {
      "application/javascript": [
       "if (typeof Jupyter !== \"undefined\") {require([\"nbextensions/vpython_libraries/glow.min\"], function(){console.log(\"GLOW LOADED\");});}else{element.textContent = ' ';}"
      ],
      "text/plain": [
       "<IPython.core.display.Javascript object>"
      ]
     },
     "metadata": {},
     "output_type": "display_data"
    },
    {
     "data": {
      "application/javascript": [
       "if (typeof Jupyter !== \"undefined\") {require([\"nbextensions/vpython_libraries/glowcomm\"], function(){console.log(\"GLOWCOMM LOADED\");});}else{element.textContent = ' ';}"
      ],
      "text/plain": [
       "<IPython.core.display.Javascript object>"
      ]
     },
     "metadata": {},
     "output_type": "display_data"
    },
    {
     "data": {
      "application/javascript": [
       "if (typeof Jupyter !== \"undefined\") {require([\"nbextensions/vpython_libraries/jquery-ui.custom.min\"], function(){console.log(\"JQUERY LOADED\");});}else{element.textContent = ' ';}"
      ],
      "text/plain": [
       "<IPython.core.display.Javascript object>"
      ]
     },
     "metadata": {},
     "output_type": "display_data"
    },
    {
     "data": {
      "text/html": [
       "<div id=\"glowscript\" class=\"glowscript\"></div>"
      ],
      "text/plain": [
       "<IPython.core.display.HTML object>"
      ]
     },
     "metadata": {},
     "output_type": "display_data"
    },
    {
     "data": {
      "application/javascript": [
       "if (typeof Jupyter !== \"undefined\") { window.__context = { glowscript_container: $(\"#glowscript\").removeAttr(\"id\")};}else{ element.textContent = ' ';}"
      ],
      "text/plain": [
       "<IPython.core.display.Javascript object>"
      ]
     },
     "metadata": {},
     "output_type": "display_data"
    }
   ],
   "source": [
    "# import vpython\n",
    "from vpython import *\n",
    "\n",
    "# make it look all pretty\n",
    "scene.background = color.white\n",
    "\n",
    "# create the ball and place it in the scene\n",
    "ball = sphere(pos=vector(0,10,0),\n",
    "              color=color.orange,\n",
    "              radius=0.1 )\n",
    "\n",
    "# create a stick to help set the scale of the scene\n",
    "stick = box(pos=vector(-0.2,0.5,0),\n",
    "            color=color.blue,\n",
    "            length=0.1, height=1.0, width=0.1 )\n",
    "\n",
    "# define the initial velocity of the ball\n",
    "velocity = vector(0,0,0)\n",
    "\n",
    "# define the mass of the ball\n",
    "mass = 0.6\n",
    "\n",
    "# define the momentum of the ball\n",
    "momentum = mass*velocity\n",
    "\n",
    "# define the force on the ball\n",
    "g = vector(0,-9.8,0)\n",
    "force = mass*g\n",
    "\n",
    "# create a graph\n",
    "position_graph = gcurve(color=color.orange)\n",
    "speed_graph = gcurve(color=color.purple)\n",
    "acceleration_graph = gcurve(color=color.red)\n",
    "\n",
    "# set the size of the time step\n",
    "dt=0.01\n",
    "\n",
    "# initialize the time\n",
    "t=0\n",
    "\n",
    "\n",
    "# run a 'while' loop to update the velocity\n",
    "while ball.pos.y>0:\n",
    "\n",
    "    # define how quickly the loop will run\n",
    "    rate(100)\n",
    "\n",
    "    # determine net force at this step\n",
    "    # in this case the force is always the same\n",
    "    force = force\n",
    "\n",
    "    # use the force to update the momentum\n",
    "    momentum = momentum + force*dt\n",
    "\n",
    "    # use the momentum to update the velocity\n",
    "    velocity = momentum/mass\n",
    "\n",
    "    # update the ball's position using it velocity\n",
    "    ball.pos = ball.pos + velocity*dt\n",
    "\n",
    "    # plot the position, speed, and acceleration\n",
    "    position_graph.plot(pos=(t,ball.pos.y))\n",
    "    speed_graph.plot(pos=(t,velocity.y))\n",
    "    acceleration_graph.plot(pos=(t,force.y/mass))\n",
    "\n",
    "    # increment the time step\n",
    "    t=t+dt"
   ]
  },
  {
   "cell_type": "markdown",
   "metadata": {},
   "source": []
  }
 ],
 "metadata": {
  "kernelspec": {
   "display_name": "VPython",
   "language": "python",
   "name": "vpython"
  },
  "language_info": {
   "codemirror_mode": {
    "name": "ipython",
    "version": 3
   },
   "file_extension": ".py",
   "mimetype": "text/x-python",
   "name": "python",
   "nbconvert_exporter": "python",
   "pygments_lexer": "ipython3",
   "version": "3.7.1"
  }
 },
 "nbformat": 4,
 "nbformat_minor": 2
}
