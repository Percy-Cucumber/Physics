{
 "cells": [
  {
   "cell_type": "markdown",
   "metadata": {},
   "source": [
    "# Elevator Model From Force Meter"
   ]
  },
  {
   "cell_type": "code",
   "execution_count": 1,
   "metadata": {},
   "outputs": [
    {
     "data": {
      "application/javascript": [
       "if (typeof Jupyter !== \"undefined\") {require.undef(\"nbextensions/vpython_libraries/glow.min\");}else{element.textContent = ' ';}"
      ],
      "text/plain": [
       "<IPython.core.display.Javascript object>"
      ]
     },
     "metadata": {},
     "output_type": "display_data"
    },
    {
     "data": {
      "application/javascript": [
       "if (typeof Jupyter !== \"undefined\") {require.undef(\"nbextensions/vpython_libraries/glowcomm\");}else{element.textContent = ' ';}"
      ],
      "text/plain": [
       "<IPython.core.display.Javascript object>"
      ]
     },
     "metadata": {},
     "output_type": "display_data"
    },
    {
     "data": {
      "application/javascript": [
       "if (typeof Jupyter !== \"undefined\") {require.undef(\"nbextensions/vpython_libraries/jquery-ui.custom.min\");}else{element.textContent = ' ';}"
      ],
      "text/plain": [
       "<IPython.core.display.Javascript object>"
      ]
     },
     "metadata": {},
     "output_type": "display_data"
    },
    {
     "data": {
      "application/javascript": [
       "if (typeof Jupyter !== \"undefined\") {require([\"nbextensions/vpython_libraries/glow.min\"], function(){console.log(\"GLOW LOADED\");});}else{element.textContent = ' ';}"
      ],
      "text/plain": [
       "<IPython.core.display.Javascript object>"
      ]
     },
     "metadata": {},
     "output_type": "display_data"
    },
    {
     "data": {
      "application/javascript": [
       "if (typeof Jupyter !== \"undefined\") {require([\"nbextensions/vpython_libraries/glowcomm\"], function(){console.log(\"GLOWCOMM LOADED\");});}else{element.textContent = ' ';}"
      ],
      "text/plain": [
       "<IPython.core.display.Javascript object>"
      ]
     },
     "metadata": {},
     "output_type": "display_data"
    },
    {
     "data": {
      "application/javascript": [
       "if (typeof Jupyter !== \"undefined\") {require([\"nbextensions/vpython_libraries/jquery-ui.custom.min\"], function(){console.log(\"JQUERY LOADED\");});}else{element.textContent = ' ';}"
      ],
      "text/plain": [
       "<IPython.core.display.Javascript object>"
      ]
     },
     "metadata": {},
     "output_type": "display_data"
    },
    {
     "data": {
      "text/html": [
       "<div id=\"glowscript\" class=\"glowscript\"></div>"
      ],
      "text/plain": [
       "<IPython.core.display.HTML object>"
      ]
     },
     "metadata": {},
     "output_type": "display_data"
    },
    {
     "data": {
      "application/javascript": [
       "if (typeof Jupyter !== \"undefined\") { window.__context = { glowscript_container: $(\"#glowscript\").removeAttr(\"id\")};}else{ element.textContent = ' ';}"
      ],
      "text/plain": [
       "<IPython.core.display.Javascript object>"
      ]
     },
     "metadata": {},
     "output_type": "display_data"
    }
   ],
   "source": [
    "# Standard imports, now we got csv too so we can work with the file from logger pro\n",
    "import vpython as vp\n",
    "import csv\n",
    "\n",
    "# Make it look cool (Just setting the scene)\n",
    "vp.scene.background = vp.color.white\n",
    "vp.scene.title = '\\t\\t<b>Accelerated Elevator: \\n\\t\\t\\tHeight: 11.51m<b>'\n",
    "vp.scene.userzoom = False\n",
    "vp.scene.center = vp.vec(0,6,0)\n",
    "\n",
    "# Initial Conditions\n",
    "v = vp.vec(0,0,0)\n",
    "a = vp.vec(0,0,0)\n",
    "t = 0\n",
    "\n",
    "# This is just the point in the csv file where the elevator started going down (for the loop)\n",
    "index = 1\n",
    "baseline = 0.124653807\n",
    "\n",
    "# Opening the csv file in read mode (Path is set to where the file is located on my laptop!)\n",
    "csvfile = open('/Users/Simon/Desktop/Forcemeter.csv', 'r')\n",
    "# Using the csv module to read the file and place , as delimiter\n",
    "csvreader = csv.reader(csvfile, delimiter=',', quotechar='|')\n",
    "# Making the read file into a list so it's easier to work with\n",
    "mylist = list(csvreader)\n",
    "\n",
    "# Creating the Objects\n",
    "elevator = vp.box(pos=vp.vec(0,11.51,0), size=vp.vec(3,3,0.2), color=vp.color.cyan)\n",
    "ceiling = vp.box(pos=vp.vec(0,13.11,0), size=vp.vec(4,0.2,0.2), color=vp.color.gray(0.4))\n",
    "wall = vp.box(pos=vp.vec(-1.6,5.755,0), size=vp.vec(0.2,14.51,0.2))\n",
    "floor = vp.box(pos=vp.vec(0,-1.6,0), size=vp.vec(9,0.2,0.2), color=vp.color.gray(0.4))\n",
    "\n",
    "# Graphs\n",
    "gv = vp.gcurve(color=vp.color.red)\n",
    "ga = vp.gcurve(color=vp.color.blue)\n",
    "\n",
    "# Time counter\n",
    "ti = 0\n",
    "tim = 0\n",
    "\n",
    "# List for checking the delta t being correct\n",
    "dtt = []\n",
    "\n",
    "# Normal Loop, but now looping over index(just a number) for the 'row' number (item in list)\n",
    "while index < 1150:\n",
    "    vp.rate(100)\n",
    "    \n",
    "#     Extracting the data which is datapoints with measurements for each time\n",
    "    mydata = mylist[index]\n",
    "    \n",
    "#     This is the 1st entry for each measurement, which is the timestamp\n",
    "    mytime = mydata[0]\n",
    "    \n",
    "#     Now I'm extracting the minutes, seconds and milliseconds from the timestamp and converting to seconds\n",
    "    tim = float(mytime)\n",
    "    \n",
    "#     Letting the change in time be the new time(tim) minus the old time(ti)\n",
    "    dt = tim - ti\n",
    "    \n",
    "#     This is just letting the y coordinate in my acceleration vector be the datapoint from the set\n",
    "# Also we have to subtract the base interference of 0.0133449\n",
    "    a = vp.vec(0,(float(mydata[2])-baseline),0)\n",
    "    \n",
    "#     Going to velocity from the acceleration, by multiplying by the change in time\n",
    "    v = v + a*dt\n",
    "    \n",
    "#     Updating the position by the change in velocity\n",
    "    elevator.pos = elevator.pos + v*dt\n",
    "    \n",
    "#     Here we're just updating some values to get our loop going and keep track of time.\n",
    "    index = index + 1\n",
    "    t += dt\n",
    "    ti = tim\n",
    "    \n",
    "#     Adding to the list for dt, and plotting the graphs\n",
    "    dtt.append(dt)\n",
    "    gv.plot(t, v.y)\n",
    "    ga.plot(t, a.y)\n",
    "    \n",
    "#     Live update Values while the elevator is going\n",
    "    vp.scene.caption = 'Acceleration: '+str(round(a.y,4))+'\\nHeight: '+str(round(elevator.pos.y, 2))+'''\n",
    "Time: '''+str(round(t,2))\n",
    "\n",
    "# Print the list of all time changes for verification\n",
    "# print(dtt)\n",
    "csvfile.close()"
   ]
  },
  {
   "cell_type": "code",
   "execution_count": null,
   "metadata": {},
   "outputs": [],
   "source": []
  }
 ],
 "metadata": {
  "kernelspec": {
   "display_name": "VPython",
   "language": "python",
   "name": "vpython"
  },
  "language_info": {
   "codemirror_mode": {
    "name": "ipython",
    "version": 3
   },
   "file_extension": ".py",
   "mimetype": "text/x-python",
   "name": "python",
   "nbconvert_exporter": "python",
   "pygments_lexer": "ipython3",
   "version": "3.7.0"
  }
 },
 "nbformat": 4,
 "nbformat_minor": 2
}
