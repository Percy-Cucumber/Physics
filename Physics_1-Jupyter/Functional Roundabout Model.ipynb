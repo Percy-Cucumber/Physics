{
 "cells": [
  {
   "cell_type": "markdown",
   "metadata": {},
   "source": [
    "# Roundabout Model\n",
    "*Adam Achs & Ngonidzashe Mandiveyi*"
   ]
  },
  {
   "cell_type": "code",
   "execution_count": 1,
   "metadata": {},
   "outputs": [
    {
     "data": {
      "application/javascript": [
       "if (typeof Jupyter !== \"undefined\") {require.undef(\"nbextensions/vpython_libraries/glow.min\");}else{element.textContent = ' ';}"
      ],
      "text/plain": [
       "<IPython.core.display.Javascript object>"
      ]
     },
     "metadata": {},
     "output_type": "display_data"
    },
    {
     "data": {
      "application/javascript": [
       "if (typeof Jupyter !== \"undefined\") {require.undef(\"nbextensions/vpython_libraries/glowcomm\");}else{element.textContent = ' ';}"
      ],
      "text/plain": [
       "<IPython.core.display.Javascript object>"
      ]
     },
     "metadata": {},
     "output_type": "display_data"
    },
    {
     "data": {
      "application/javascript": [
       "if (typeof Jupyter !== \"undefined\") {require.undef(\"nbextensions/vpython_libraries/jquery-ui.custom.min\");}else{element.textContent = ' ';}"
      ],
      "text/plain": [
       "<IPython.core.display.Javascript object>"
      ]
     },
     "metadata": {},
     "output_type": "display_data"
    },
    {
     "data": {
      "application/javascript": [
       "if (typeof Jupyter !== \"undefined\") {require([\"nbextensions/vpython_libraries/glow.min\"], function(){console.log(\"GLOW LOADED\");});}else{element.textContent = ' ';}"
      ],
      "text/plain": [
       "<IPython.core.display.Javascript object>"
      ]
     },
     "metadata": {},
     "output_type": "display_data"
    },
    {
     "data": {
      "application/javascript": [
       "if (typeof Jupyter !== \"undefined\") {require([\"nbextensions/vpython_libraries/glowcomm\"], function(){console.log(\"GLOWCOMM LOADED\");});}else{element.textContent = ' ';}"
      ],
      "text/plain": [
       "<IPython.core.display.Javascript object>"
      ]
     },
     "metadata": {},
     "output_type": "display_data"
    },
    {
     "data": {
      "application/javascript": [
       "if (typeof Jupyter !== \"undefined\") {require([\"nbextensions/vpython_libraries/jquery-ui.custom.min\"], function(){console.log(\"JQUERY LOADED\");});}else{element.textContent = ' ';}"
      ],
      "text/plain": [
       "<IPython.core.display.Javascript object>"
      ]
     },
     "metadata": {},
     "output_type": "display_data"
    },
    {
     "data": {
      "text/html": [
       "<div id=\"glowscript\" class=\"glowscript\"></div>"
      ],
      "text/plain": [
       "<IPython.core.display.HTML object>"
      ]
     },
     "metadata": {},
     "output_type": "display_data"
    },
    {
     "data": {
      "application/javascript": [
       "if (typeof Jupyter !== \"undefined\") { window.__context = { glowscript_container: $(\"#glowscript\").removeAttr(\"id\")};}else{ element.textContent = ' ';}"
      ],
      "text/plain": [
       "<IPython.core.display.Javascript object>"
      ]
     },
     "metadata": {},
     "output_type": "display_data"
    }
   ],
   "source": [
    "# Importing everything\n",
    "import csv\n",
    "import vpython as vp\n",
    "\n",
    "# Accounting for trendline in the data\n",
    "def trendline(i):\n",
    "    return 2e-5*i+0.0019\n",
    "\n",
    "# What time is it mr wolf?\n",
    "t = 0\n",
    "ti = 35*60+24.390\n",
    "index = 1\n",
    "\n",
    "# Making it look all pretty\n",
    "vp.scene.background = color = vp.color.white\n",
    "\n",
    "# Importing our data\n",
    "csvfile = open('318i_roundabout.csv', 'r')\n",
    "reader = csv.reader(csvfile, delimiter=',', quotechar='|')\n",
    "listreader = list(reader)\n",
    "\n",
    "# Creating Objects\n",
    "car = vp.box(pos=vp.vec(0,0,0), size=vp.vec(1,2,0.2), color=vp.vec(0.4,0.6,0), make_trail=True)\n",
    "xarrow = vp.arrow(pos=car.pos, shaftwidth=0.3, length=2)\n",
    "yarrow = vp.arrow(pos=car.pos, shaftwidth=0.3, length=2)\n",
    "zarrow = vp.arrow(pos=car.pos, shaftwidth=0.3, length=2)\n",
    "\n",
    "gv = vp.gcurve(color=vp.vec(0,0.3,0.7))\n",
    "\n",
    "#Defining which vector is which\n",
    "yi = vp.vec(0,1,0)\n",
    "xi = vp.vec(1,0,0)\n",
    "zi = vp.vec(0,0,1)\n",
    "\n",
    "yvi = 0     #initial velocity = 0\n",
    "\n",
    "while index < len(listreader):\n",
    "    vp.rate(80)\n",
    "\n",
    "# Timestamp (dt)\n",
    "    listfile = listreader[index]\n",
    "    timelist = listfile[0]\n",
    "    tf = float(timelist[15:17])*60 + float(timelist[18:20]) + float(timelist[21:24])*0.001\n",
    "    dt = tf - ti\n",
    "    t += dt\n",
    "    \n",
    "# Accesing acceleration data\n",
    "    accelX = (float(listfile[4]))*(9.81)\n",
    "    accelY = (float(listfile[5]))*(9.81)\n",
    "    accelZ = (float(listfile[6]))*(9.81)\n",
    "    \n",
    "# Accessing gyroscopic data\n",
    "    gyroX = float(listfile[7])*dt\n",
    "    gyroY = float(listfile[8])*dt\n",
    "    gyroZ = float(listfile[9])*dt\n",
    "\n",
    "# Calculations\n",
    "    yf = vp.rotate(vp.rotate(yi, gyroY, xi),gyroZ, zi)     #rotating the axis\n",
    "    xf = vp.rotate(vp.rotate(xi, gyroX, yi), gyroZ, zi)\n",
    "    zf = vp.cross(xi, yi)\n",
    "\n",
    "    yhat = vp.norm(yf)     #getting the direction (.norm creates vector)\n",
    "    xhat = vp.norm(xf)\n",
    "    zhat = vp.norm(zf)\n",
    "    \n",
    "    yv = yhat*yvi + yhat*accelY*dt     #updating the velocities\n",
    "    xv = xhat*accelX*dt\n",
    "    zv = zhat*accelZ*dt\n",
    "\n",
    "    car.pos = car.pos + (yv+xv+zv)*dt     #updating the car's position\n",
    "    yarrow.pos = car.pos\n",
    "    xarrow.pos = car.pos\n",
    "    zarrow.pos = car.pos\n",
    "    \n",
    "    car.axis = xhat\n",
    "    yarrow.axis = yhat\n",
    "    xarrow.axis = xhat\n",
    "    zarrow.axis = zhat\n",
    "\n",
    "# Graphing stuff\n",
    "    gv.plot(t, vp.mag(xv))     #graphing the velocities\n",
    "#    gv.plot(t, vp.mag(yv))\n",
    "#    gv.plot(t, vp.mag(zv))\n",
    "\n",
    "# Show time elapsed above the graph\n",
    "    vp.scene.caption = 'Time: ' + str(t)\n",
    "\n",
    "# Incrementing everything\n",
    "    yi = yf     #incrementing y\n",
    "    xi = xf     #incrementing x\n",
    "    zi = zf     #incrementing z\n",
    "    \n",
    "    yvi = vp.mag(yv)     #incrementing velocity\n",
    "    \n",
    "    ti = tf     #incrementing time\n",
    "    index +=1     #move onto the next point\n",
    "\n",
    "csvfile.close()     #free up my RAM yo!"
   ]
  }
 ],
 "metadata": {
  "kernelspec": {
   "display_name": "VPython",
   "language": "python",
   "name": "vpython"
  },
  "language_info": {
   "codemirror_mode": {
    "name": "ipython",
    "version": 3
   },
   "file_extension": ".py",
   "mimetype": "text/x-python",
   "name": "python",
   "nbconvert_exporter": "python",
   "pygments_lexer": "ipython3",
   "version": "3.7.1"
  }
 },
 "nbformat": 4,
 "nbformat_minor": 2
}
