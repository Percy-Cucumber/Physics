{
 "cells": [
  {
   "cell_type": "code",
   "execution_count": null,
   "metadata": {},
   "outputs": [
    {
     "data": {
      "application/javascript": [
       "if (typeof Jupyter !== \"undefined\") {require.undef(\"nbextensions/vpython_libraries/glow.min\");}else{element.textContent = ' ';}"
      ],
      "text/plain": [
       "<IPython.core.display.Javascript object>"
      ]
     },
     "metadata": {},
     "output_type": "display_data"
    },
    {
     "data": {
      "application/javascript": [
       "if (typeof Jupyter !== \"undefined\") {require.undef(\"nbextensions/vpython_libraries/glowcomm\");}else{element.textContent = ' ';}"
      ],
      "text/plain": [
       "<IPython.core.display.Javascript object>"
      ]
     },
     "metadata": {},
     "output_type": "display_data"
    },
    {
     "data": {
      "application/javascript": [
       "if (typeof Jupyter !== \"undefined\") {require.undef(\"nbextensions/vpython_libraries/jquery-ui.custom.min\");}else{element.textContent = ' ';}"
      ],
      "text/plain": [
       "<IPython.core.display.Javascript object>"
      ]
     },
     "metadata": {},
     "output_type": "display_data"
    },
    {
     "data": {
      "application/javascript": [
       "if (typeof Jupyter !== \"undefined\") {require([\"nbextensions/vpython_libraries/glow.min\"], function(){console.log(\"GLOW LOADED\");});}else{element.textContent = ' ';}"
      ],
      "text/plain": [
       "<IPython.core.display.Javascript object>"
      ]
     },
     "metadata": {},
     "output_type": "display_data"
    },
    {
     "data": {
      "application/javascript": [
       "if (typeof Jupyter !== \"undefined\") {require([\"nbextensions/vpython_libraries/glowcomm\"], function(){console.log(\"GLOWCOMM LOADED\");});}else{element.textContent = ' ';}"
      ],
      "text/plain": [
       "<IPython.core.display.Javascript object>"
      ]
     },
     "metadata": {},
     "output_type": "display_data"
    },
    {
     "data": {
      "application/javascript": [
       "if (typeof Jupyter !== \"undefined\") {require([\"nbextensions/vpython_libraries/jquery-ui.custom.min\"], function(){console.log(\"JQUERY LOADED\");});}else{element.textContent = ' ';}"
      ],
      "text/plain": [
       "<IPython.core.display.Javascript object>"
      ]
     },
     "metadata": {},
     "output_type": "display_data"
    },
    {
     "data": {
      "text/html": [
       "<div id=\"glowscript\" class=\"glowscript\"></div>"
      ],
      "text/plain": [
       "<IPython.core.display.HTML object>"
      ]
     },
     "metadata": {},
     "output_type": "display_data"
    },
    {
     "data": {
      "application/javascript": [
       "if (typeof Jupyter !== \"undefined\") { window.__context = { glowscript_container: $(\"#glowscript\").removeAttr(\"id\")};}else{ element.textContent = ' ';}"
      ],
      "text/plain": [
       "<IPython.core.display.Javascript object>"
      ]
     },
     "metadata": {},
     "output_type": "display_data"
    }
   ],
   "source": [
    "from vpython import *\n",
    "\n",
    "scene.background = color.white\n",
    "scene.title = '\\t\\t<font size=\"+2\"> <b> Masses & Gravity <b> </font>'\n",
    "# scene.center = vec(0,10,0)\n",
    "\n",
    "# Time and that 'one' constant\n",
    "G = 6.7*pow(10,-11)\n",
    "t= 0\n",
    "dt = 0.7\n",
    "\n",
    "# Creating the objects\n",
    "g1 = sphere(pos=vec(60,0,0), radius=5, color=color.yellow)\n",
    "g2 = sphere(pos=vec(g1.pos.x+30,g1.pos.y,g1.pos.z), radius=1, color=color.green)\n",
    "g3 = sphere(pos=vec(0,0,0), radius=20, color=color.black)\n",
    "\n",
    "scene.camera.follow(g3)\n",
    "\n",
    "# Setting the masses\n",
    "g1_m = 3000000000\n",
    "g2_m = 10000000\n",
    "g3_m = 10000000000\n",
    "\n",
    "# Initial velocity\n",
    "g1_v = vec(0,0.15,0)\n",
    "g2_v = vec(0,0.22,0.01)\n",
    "g3_v = vec(0,0,0)\n",
    "\n",
    "# Initial momentum\n",
    "g1_p = g1_v * g1_m\n",
    "g2_p = g2_v * g2_m\n",
    "g3_p = g3_v * g3_m\n",
    "\n",
    "# Defining the while loop for time\n",
    "while t < 50000:\n",
    "    rate(200)\n",
    "    t = t + dt\n",
    "    \n",
    "#     distance between objects as vector\n",
    "    r21 = g2.pos - g1.pos\n",
    "    r31 = g3.pos - g1.pos\n",
    "    r32 = g3.pos - g2.pos\n",
    "    \n",
    "#     Magnitude of force\n",
    "    magF21 = G*g1_m*g2_m/(mag(r21)*mag(r21))\n",
    "    magF31 = G*g3_m*g1_m/(mag(r31)*mag(r31))\n",
    "    magF32 = G*g3_m*g2_m/(mag(r32)*mag(r32))\n",
    "    \n",
    "#    Unit vectors\n",
    "    r21hat = vec(r21.x/mag(r21), r21.y/mag(r21), r21.z/mag(r21))\n",
    "    r31hat = vec(r31.x/mag(r31), r31.y/mag(r31), r31.z/mag(r31))\n",
    "    r32hat = vec(r32.x/mag(r32), r32.y/mag(r32), r32.z/mag(r32))\n",
    "    \n",
    "#     Force as vector\n",
    "    F21 = magF21*r21hat\n",
    "    F31 = magF31*r31hat\n",
    "    F32 = magF32*r32hat\n",
    "    \n",
    "#     Updating the momentum\n",
    "    g1_p = g1_p + (F21 + F31)*dt\n",
    "    g2_p = g2_p + (-F21 + F32)*dt\n",
    "    g3_p = g3_p + (-F31 - F32 )*dt\n",
    "    \n",
    "#     Updating the positions\n",
    "\n",
    "    g1.pos = g1.pos + (g1_p/g1_m)*dt\n",
    "    g2.pos = g2.pos + (g2_p/g2_m)*dt\n",
    "    g3.pos = g3.pos + (g3_p/g3_m)*dt\n",
    "    \n",
    "#     if t%10 < 1:\n",
    "#         sphere(pos=g2.pos, radius=0.03, color=color.red)"
   ]
  },
  {
   "cell_type": "code",
   "execution_count": null,
   "metadata": {},
   "outputs": [],
   "source": []
  }
 ],
 "metadata": {
  "kernelspec": {
   "display_name": "VPython",
   "language": "python",
   "name": "vpython"
  },
  "language_info": {
   "codemirror_mode": {
    "name": "ipython",
    "version": 3
   },
   "file_extension": ".py",
   "mimetype": "text/x-python",
   "name": "python",
   "nbconvert_exporter": "python",
   "pygments_lexer": "ipython3",
   "version": "3.7.1"
  }
 },
 "nbformat": 4,
 "nbformat_minor": 2
}
