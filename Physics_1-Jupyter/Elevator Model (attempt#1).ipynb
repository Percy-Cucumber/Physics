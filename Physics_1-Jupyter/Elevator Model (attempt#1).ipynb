{
 "cells": [
  {
   "cell_type": "markdown",
   "metadata": {},
   "source": [
    "# Elevator Acceleration Model"
   ]
  },
  {
   "cell_type": "code",
   "execution_count": 1,
   "metadata": {},
   "outputs": [
    {
     "data": {
      "application/javascript": [
       "if (typeof Jupyter !== \"undefined\") {require.undef(\"nbextensions/vpython_libraries/glow.min\");}else{element.textContent = ' ';}"
      ],
      "text/plain": [
       "<IPython.core.display.Javascript object>"
      ]
     },
     "metadata": {},
     "output_type": "display_data"
    },
    {
     "data": {
      "application/javascript": [
       "if (typeof Jupyter !== \"undefined\") {require.undef(\"nbextensions/vpython_libraries/glowcomm\");}else{element.textContent = ' ';}"
      ],
      "text/plain": [
       "<IPython.core.display.Javascript object>"
      ]
     },
     "metadata": {},
     "output_type": "display_data"
    },
    {
     "data": {
      "application/javascript": [
       "if (typeof Jupyter !== \"undefined\") {require.undef(\"nbextensions/vpython_libraries/jquery-ui.custom.min\");}else{element.textContent = ' ';}"
      ],
      "text/plain": [
       "<IPython.core.display.Javascript object>"
      ]
     },
     "metadata": {},
     "output_type": "display_data"
    },
    {
     "data": {
      "application/javascript": [
       "if (typeof Jupyter !== \"undefined\") {require([\"nbextensions/vpython_libraries/glow.min\"], function(){console.log(\"GLOW LOADED\");});}else{element.textContent = ' ';}"
      ],
      "text/plain": [
       "<IPython.core.display.Javascript object>"
      ]
     },
     "metadata": {},
     "output_type": "display_data"
    },
    {
     "data": {
      "application/javascript": [
       "if (typeof Jupyter !== \"undefined\") {require([\"nbextensions/vpython_libraries/glowcomm\"], function(){console.log(\"GLOWCOMM LOADED\");});}else{element.textContent = ' ';}"
      ],
      "text/plain": [
       "<IPython.core.display.Javascript object>"
      ]
     },
     "metadata": {},
     "output_type": "display_data"
    },
    {
     "data": {
      "application/javascript": [
       "if (typeof Jupyter !== \"undefined\") {require([\"nbextensions/vpython_libraries/jquery-ui.custom.min\"], function(){console.log(\"JQUERY LOADED\");});}else{element.textContent = ' ';}"
      ],
      "text/plain": [
       "<IPython.core.display.Javascript object>"
      ]
     },
     "metadata": {},
     "output_type": "display_data"
    },
    {
     "data": {
      "text/html": [
       "<div id=\"glowscript\" class=\"glowscript\"></div>"
      ],
      "text/plain": [
       "<IPython.core.display.HTML object>"
      ]
     },
     "metadata": {},
     "output_type": "display_data"
    },
    {
     "data": {
      "application/javascript": [
       "if (typeof Jupyter !== \"undefined\") { window.__context = { glowscript_container: $(\"#glowscript\").removeAttr(\"id\")};}else{ element.textContent = ' ';}"
      ],
      "text/plain": [
       "<IPython.core.display.Javascript object>"
      ]
     },
     "metadata": {},
     "output_type": "display_data"
    }
   ],
   "source": [
    "# Standard imports, now we got csv too so we can work with the file from logger pro\n",
    "import vpython as vp\n",
    "import csv\n",
    "\n",
    "# Make it look cool (Just setting the scene)\n",
    "vp.scene.background = vp.color.white\n",
    "vp.scene.title = '\\t\\t<b>Accelerated Elevator: \\n\\t\\t\\tHeight: 14.05m<b>'\n",
    "vp.scene.userzoom = False\n",
    "vp.scene.center = vp.vec(0,6,0)\n",
    "\n",
    "# Initial Conditions\n",
    "v = vp.vec(0,0,0)\n",
    "a = vp.vec(0,0,0)\n",
    "dt = 23.25/2075\n",
    "t = 0\n",
    "\n",
    "# This is just the point in the csv file where the elevator started going down (for the loop)\n",
    "index = 1525\n",
    "\n",
    "# Opening the csv file in read mode\n",
    "csvfile = open('/Users/adamachs/Desktop/Adams_Stuff/Quest/Physics_1/sensoroutput/elevatordata.csv', 'r')\n",
    "# Using the csv module to read the file and place , as delimiter\n",
    "csvreader = csv.reader(csvfile, delimiter=',', quotechar='|')\n",
    "# Making the read file into a list so it's easier to work with\n",
    "mylist = list(csvreader)\n",
    "\n",
    "# Creating the Objects\n",
    "elevator = vp.box(pos=vp.vec(0,14.05,0), size=vp.vec(3,3,0.2), color=vp.color.blue)\n",
    "ceiling = vp.box(pos=vp.vec(0,15.65,0), size=vp.vec(4,0.2,0.2), color=vp.color.gray(0.4))\n",
    "wall = vp.box(pos=vp.vec(-1.6,7.025,0), size=vp.vec(0.2,17.05,0.2))\n",
    "floor = vp.box(pos=vp.vec(0,-1.6,0), size=vp.vec(9,0.2,0.2), color=vp.color.gray(0.4))\n",
    "\n",
    "# Graphs\n",
    "gv = vp.gcurve(color=vp.color.red)\n",
    "ga = vp.gcurve(color=vp.color.blue)\n",
    "\n",
    "while index < 3600:\n",
    "    vp.rate(100)\n",
    "    myaccel = mylist[index]\n",
    "    a = vp.vec(0,-(float(myaccel[6])-0.0133449)*9.81,0)\n",
    "    v = v + a*dt\n",
    "    elevator.pos = elevator.pos + v*dt\n",
    "    vp.scene.caption = 'Acceleration: ' + str(round(a.y,4)) + '\\t\\t\\tHeight: '+str(round(elevator.pos.y, 2))\n",
    "    index = index + 1\n",
    "    t += dt\n",
    "    gv.plot(t, v.y)\n",
    "    ga.plot(t, a.y)\n",
    "    "
   ]
  },
  {
   "cell_type": "code",
   "execution_count": null,
   "metadata": {},
   "outputs": [],
   "source": []
  },
  {
   "cell_type": "code",
   "execution_count": null,
   "metadata": {},
   "outputs": [],
   "source": []
  }
 ],
 "metadata": {
  "kernelspec": {
   "display_name": "VPython",
   "language": "python",
   "name": "vpython"
  },
  "language_info": {
   "codemirror_mode": {
    "name": "ipython",
    "version": 3
   },
   "file_extension": ".py",
   "mimetype": "text/x-python",
   "name": "python",
   "nbconvert_exporter": "python",
   "pygments_lexer": "ipython3",
   "version": "3.7.1"
  }
 },
 "nbformat": 4,
 "nbformat_minor": 2
}
