{
 "cells": [
  {
   "cell_type": "code",
   "execution_count": 1,
   "metadata": {},
   "outputs": [
    {
     "data": {
      "application/javascript": [
       "if (typeof Jupyter !== \"undefined\") {require.undef(\"nbextensions/vpython_libraries/glow.min\");}else{element.textContent = ' ';}"
      ],
      "text/plain": [
       "<IPython.core.display.Javascript object>"
      ]
     },
     "metadata": {},
     "output_type": "display_data"
    },
    {
     "data": {
      "application/javascript": [
       "if (typeof Jupyter !== \"undefined\") {require.undef(\"nbextensions/vpython_libraries/glowcomm\");}else{element.textContent = ' ';}"
      ],
      "text/plain": [
       "<IPython.core.display.Javascript object>"
      ]
     },
     "metadata": {},
     "output_type": "display_data"
    },
    {
     "data": {
      "application/javascript": [
       "if (typeof Jupyter !== \"undefined\") {require.undef(\"nbextensions/vpython_libraries/jquery-ui.custom.min\");}else{element.textContent = ' ';}"
      ],
      "text/plain": [
       "<IPython.core.display.Javascript object>"
      ]
     },
     "metadata": {},
     "output_type": "display_data"
    },
    {
     "data": {
      "application/javascript": [
       "if (typeof Jupyter !== \"undefined\") {require([\"nbextensions/vpython_libraries/glow.min\"], function(){console.log(\"GLOW LOADED\");});}else{element.textContent = ' ';}"
      ],
      "text/plain": [
       "<IPython.core.display.Javascript object>"
      ]
     },
     "metadata": {},
     "output_type": "display_data"
    },
    {
     "data": {
      "application/javascript": [
       "if (typeof Jupyter !== \"undefined\") {require([\"nbextensions/vpython_libraries/glowcomm\"], function(){console.log(\"GLOWCOMM LOADED\");});}else{element.textContent = ' ';}"
      ],
      "text/plain": [
       "<IPython.core.display.Javascript object>"
      ]
     },
     "metadata": {},
     "output_type": "display_data"
    },
    {
     "data": {
      "application/javascript": [
       "if (typeof Jupyter !== \"undefined\") {require([\"nbextensions/vpython_libraries/jquery-ui.custom.min\"], function(){console.log(\"JQUERY LOADED\");});}else{element.textContent = ' ';}"
      ],
      "text/plain": [
       "<IPython.core.display.Javascript object>"
      ]
     },
     "metadata": {},
     "output_type": "display_data"
    },
    {
     "data": {
      "text/html": [
       "<div id=\"glowscript\" class=\"glowscript\"></div>"
      ],
      "text/plain": [
       "<IPython.core.display.HTML object>"
      ]
     },
     "metadata": {},
     "output_type": "display_data"
    },
    {
     "data": {
      "application/javascript": [
       "if (typeof Jupyter !== \"undefined\") { window.__context = { glowscript_container: $(\"#glowscript\").removeAttr(\"id\")};}else{ element.textContent = ' ';}"
      ],
      "text/plain": [
       "<IPython.core.display.Javascript object>"
      ]
     },
     "metadata": {},
     "output_type": "display_data"
    }
   ],
   "source": [
    "import csv\n",
    "import vpython as vp\n",
    "\n",
    "vp.scene.background = color=vp.color.white\n",
    "\n",
    "\n",
    "csvfile = open('318i_roundabout.csv', 'r')\n",
    "reader = csv.reader(csvfile, delimiter=',', quotechar='|')\n",
    "\n",
    "listreader = list(reader)\n",
    "\n",
    "# Objects\n",
    "car = vp.box(pos=vp.vec(0,0,0), size=vp.vec(1,2,0.2), color=vp.vec(0.4,0.6,0), make_trail=True)\n",
    "\n",
    "t = 0\n",
    "ti = 2771.222\n",
    "index = 501\n",
    "zhat = vp.vec(0,0,-1)\n",
    "\n",
    "ay = 0\n",
    "\n",
    "baseline = 0.02961741\n",
    "\n",
    "gv = vp.gcurve(color=vp.vec(0,0.3,0.7))\n",
    "ga = vp.gcurve(color=vp.vec(1,0,0))\n",
    "\n",
    "vi = 5\n",
    "vf = vp.vec(0,5,0)\n",
    " \n",
    "while index < 1436:\n",
    "    vp.rate(20)\n",
    "\n",
    "#     Timestamp /dt\n",
    "    listfile = listreader[index]\n",
    "    timelist = listfile[0]\n",
    "    \n",
    "    tf = float(timelist[15:17])*60 + float(timelist[18:20]) + float(timelist[21:24])*0.001\n",
    "\n",
    "    dt = tf - ti\n",
    "    t+=dt\n",
    "\n",
    "#     Acces acceleration\n",
    "    accelX = (float(listfile[4]))*(9.81)\n",
    "    accelY = (float(listfile[5])-baseline)*(9.81)\n",
    "    \n",
    "    vhat = vp.norm(vf)\n",
    "    vphat = vp.norm(vp.cross(vf, zhat))\n",
    "    \n",
    "    vf = vf + vphat*(accelX*dt) + vhat*(accelY*dt)\n",
    "    \n",
    "    car.pos = car.pos + vf*dt\n",
    "    car.axis = vphat\n",
    "\n",
    "    gv.plot(t, vp.mag(vf))\n",
    "    ga.plot(t, accelX*dt)\n",
    "\n",
    "    vp.scene.caption = 'Time: ' + str(t)\n",
    "\n",
    "    vf = vp.norm(vf)*vi\n",
    "\n",
    "    ti = tf\n",
    "    \n",
    "    index +=1\n",
    "\n",
    "csvfile.close()"
   ]
  }
 ],
 "metadata": {
  "kernelspec": {
   "display_name": "VPython",
   "language": "python",
   "name": "vpython"
  },
  "language_info": {
   "codemirror_mode": {
    "name": "ipython",
    "version": 3
   },
   "file_extension": ".py",
   "mimetype": "text/x-python",
   "name": "python",
   "nbconvert_exporter": "python",
   "pygments_lexer": "ipython3",
   "version": "3.7.1"
  }
 },
 "nbformat": 4,
 "nbformat_minor": 2
}
