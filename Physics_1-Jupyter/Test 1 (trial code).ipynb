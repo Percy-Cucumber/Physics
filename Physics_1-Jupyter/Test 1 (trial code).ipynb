{
 "cells": [
  {
   "cell_type": "markdown",
   "metadata": {},
   "source": [
    "# Physics 1: Test #1 *(code attempt 1.0)*\n",
    "*Adam Achs*"
   ]
  },
  {
   "cell_type": "code",
   "execution_count": 1,
   "metadata": {},
   "outputs": [
    {
     "data": {
      "application/javascript": [
       "if (typeof Jupyter !== \"undefined\") {require.undef(\"nbextensions/vpython_libraries/glow.min\");}else{element.textContent = ' ';}"
      ],
      "text/plain": [
       "<IPython.core.display.Javascript object>"
      ]
     },
     "metadata": {},
     "output_type": "display_data"
    },
    {
     "data": {
      "application/javascript": [
       "if (typeof Jupyter !== \"undefined\") {require.undef(\"nbextensions/vpython_libraries/glowcomm\");}else{element.textContent = ' ';}"
      ],
      "text/plain": [
       "<IPython.core.display.Javascript object>"
      ]
     },
     "metadata": {},
     "output_type": "display_data"
    },
    {
     "data": {
      "application/javascript": [
       "if (typeof Jupyter !== \"undefined\") {require.undef(\"nbextensions/vpython_libraries/jquery-ui.custom.min\");}else{element.textContent = ' ';}"
      ],
      "text/plain": [
       "<IPython.core.display.Javascript object>"
      ]
     },
     "metadata": {},
     "output_type": "display_data"
    },
    {
     "data": {
      "application/javascript": [
       "if (typeof Jupyter !== \"undefined\") {require([\"nbextensions/vpython_libraries/glow.min\"], function(){console.log(\"GLOW LOADED\");});}else{element.textContent = ' ';}"
      ],
      "text/plain": [
       "<IPython.core.display.Javascript object>"
      ]
     },
     "metadata": {},
     "output_type": "display_data"
    },
    {
     "data": {
      "application/javascript": [
       "if (typeof Jupyter !== \"undefined\") {require([\"nbextensions/vpython_libraries/glowcomm\"], function(){console.log(\"GLOWCOMM LOADED\");});}else{element.textContent = ' ';}"
      ],
      "text/plain": [
       "<IPython.core.display.Javascript object>"
      ]
     },
     "metadata": {},
     "output_type": "display_data"
    },
    {
     "data": {
      "application/javascript": [
       "if (typeof Jupyter !== \"undefined\") {require([\"nbextensions/vpython_libraries/jquery-ui.custom.min\"], function(){console.log(\"JQUERY LOADED\");});}else{element.textContent = ' ';}"
      ],
      "text/plain": [
       "<IPython.core.display.Javascript object>"
      ]
     },
     "metadata": {},
     "output_type": "display_data"
    },
    {
     "data": {
      "text/html": [
       "<div id=\"glowscript\" class=\"glowscript\"></div>"
      ],
      "text/plain": [
       "<IPython.core.display.HTML object>"
      ]
     },
     "metadata": {},
     "output_type": "display_data"
    },
    {
     "data": {
      "application/javascript": [
       "if (typeof Jupyter !== \"undefined\") { window.__context = { glowscript_container: $(\"#glowscript\").removeAttr(\"id\")};}else{ element.textContent = ' ';}"
      ],
      "text/plain": [
       "<IPython.core.display.Javascript object>"
      ]
     },
     "metadata": {},
     "output_type": "display_data"
    }
   ],
   "source": [
    "# Importing stuff\n",
    "from vpython import *"
   ]
  },
  {
   "cell_type": "code",
   "execution_count": 2,
   "metadata": {},
   "outputs": [],
   "source": [
    "# Making it look all pretty\n",
    "scene.background = color.white"
   ]
  },
  {
   "cell_type": "code",
   "execution_count": 3,
   "metadata": {},
   "outputs": [],
   "source": [
    "# Setting up the problem\n",
    "t = 0                         # starting time\n",
    "dt = 0.01                     # time interval\n",
    "mass = 0.6                    # mass of the basketball\n",
    "gravity = vec(0,-9.8,0)       # force of gravity\n",
    "v_init = vec(7,5,0)           # initial velocity (the throw)\n",
    "p_init = mass * v_init        # initial momentum\n",
    "force = gravity * mass        # force excerted on the object\n",
    "\n",
    "ball = sphere(pos=vec(0,2,0), radius=0.125, color=color.red)    # ball has approximate radius of 0.125m and starts 2m above the ground\n",
    "wall = box(pos=vec(0,0,0), size=vec(5,0.01,5))                  # floor is centered at the origin (5mx5m square base with a height of 1cm)"
   ]
  },
  {
   "cell_type": "code",
   "execution_count": 4,
   "metadata": {},
   "outputs": [],
   "source": [
    "# create a graph\n",
    "pgraph = gcurve(color=color.red)        # position graph\n",
    "sgraph = gcurve(color=color.blue)       # speed graph\n",
    "agraph = gcurve(color=color.green)      # acceleration graph"
   ]
  },
  {
   "cell_type": "code",
   "execution_count": 5,
   "metadata": {},
   "outputs": [],
   "source": [
    "# Running the actual code\n",
    "while ball.pos.y>0:                           # program will run for one minute\n",
    "    rate(100)                                 # how quickly the simulation runs\n",
    "    t = t + dt                                # time is increasing (could also be written as: t+=dt)\n",
    "    p_init = p_init + force*dt                # update momentum using force\n",
    "    v_init = p_init/mass                      # update velocity using momentum\n",
    "    ball.pos = ball.pos + (p_init/mass)*dt    # update position using velocity\n",
    "    \n",
    "# plot the position, speed, and acceleration on a graph\n",
    "    pgraph.plot(pos=(t,ball.pos.y))\n",
    "    sgraph.plot(pos=(t,v_init.y))\n",
    "    agraph.plot(pos=(t,force.y/mass))\n",
    "    \n",
    "    \n",
    "    ball.pos = ball.pos + (p_init/mass)*dt\n",
    "    # new_sphere = sphere(pos=ball.pos, radius=0.125, color=color.blue)        # show path of ball\n",
    "    if ball.pos.y < 0.01:                      # when the ball hits the ground\n",
    "        break                                  # stop\n",
    "    "
   ]
  },
  {
   "cell_type": "code",
   "execution_count": null,
   "metadata": {},
   "outputs": [],
   "source": []
  },
  {
   "cell_type": "code",
   "execution_count": null,
   "metadata": {},
   "outputs": [],
   "source": []
  }
 ],
 "metadata": {
  "kernelspec": {
   "display_name": "VPython",
   "language": "python",
   "name": "vpython"
  },
  "language_info": {
   "codemirror_mode": {
    "name": "ipython",
    "version": 3
   },
   "file_extension": ".py",
   "mimetype": "text/x-python",
   "name": "python",
   "nbconvert_exporter": "python",
   "pygments_lexer": "ipython3",
   "version": "3.7.1"
  }
 },
 "nbformat": 4,
 "nbformat_minor": 2
}
