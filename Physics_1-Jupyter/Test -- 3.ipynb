{
 "cells": [
  {
   "cell_type": "markdown",
   "metadata": {},
   "source": [
    "# Test -- 3\n",
    "*Adam Achs*"
   ]
  },
  {
   "cell_type": "code",
   "execution_count": 1,
   "metadata": {},
   "outputs": [
    {
     "data": {
      "application/javascript": [
       "if (typeof Jupyter !== \"undefined\") {require.undef(\"nbextensions/vpython_libraries/glow.min\");}else{element.textContent = ' ';}"
      ],
      "text/plain": [
       "<IPython.core.display.Javascript object>"
      ]
     },
     "metadata": {},
     "output_type": "display_data"
    },
    {
     "data": {
      "application/javascript": [
       "if (typeof Jupyter !== \"undefined\") {require.undef(\"nbextensions/vpython_libraries/glowcomm\");}else{element.textContent = ' ';}"
      ],
      "text/plain": [
       "<IPython.core.display.Javascript object>"
      ]
     },
     "metadata": {},
     "output_type": "display_data"
    },
    {
     "data": {
      "application/javascript": [
       "if (typeof Jupyter !== \"undefined\") {require.undef(\"nbextensions/vpython_libraries/jquery-ui.custom.min\");}else{element.textContent = ' ';}"
      ],
      "text/plain": [
       "<IPython.core.display.Javascript object>"
      ]
     },
     "metadata": {},
     "output_type": "display_data"
    },
    {
     "data": {
      "application/javascript": [
       "if (typeof Jupyter !== \"undefined\") {require([\"nbextensions/vpython_libraries/glow.min\"], function(){console.log(\"GLOW LOADED\");});}else{element.textContent = ' ';}"
      ],
      "text/plain": [
       "<IPython.core.display.Javascript object>"
      ]
     },
     "metadata": {},
     "output_type": "display_data"
    },
    {
     "data": {
      "application/javascript": [
       "if (typeof Jupyter !== \"undefined\") {require([\"nbextensions/vpython_libraries/glowcomm\"], function(){console.log(\"GLOWCOMM LOADED\");});}else{element.textContent = ' ';}"
      ],
      "text/plain": [
       "<IPython.core.display.Javascript object>"
      ]
     },
     "metadata": {},
     "output_type": "display_data"
    },
    {
     "data": {
      "application/javascript": [
       "if (typeof Jupyter !== \"undefined\") {require([\"nbextensions/vpython_libraries/jquery-ui.custom.min\"], function(){console.log(\"JQUERY LOADED\");});}else{element.textContent = ' ';}"
      ],
      "text/plain": [
       "<IPython.core.display.Javascript object>"
      ]
     },
     "metadata": {},
     "output_type": "display_data"
    },
    {
     "data": {
      "text/html": [
       "<div id=\"glowscript\" class=\"glowscript\"></div>"
      ],
      "text/plain": [
       "<IPython.core.display.HTML object>"
      ]
     },
     "metadata": {},
     "output_type": "display_data"
    },
    {
     "data": {
      "application/javascript": [
       "if (typeof Jupyter !== \"undefined\") { window.__context = { glowscript_container: $(\"#glowscript\").removeAttr(\"id\")};}else{ element.textContent = ' ';}"
      ],
      "text/plain": [
       "<IPython.core.display.Javascript object>"
      ]
     },
     "metadata": {},
     "output_type": "display_data"
    }
   ],
   "source": [
    "# Importing everything\n",
    "from vpython import * \n",
    "\n",
    "# Making it look all pretty\n",
    "scene.background = color.white\n",
    "scene.title = '\\t\\t<font size=\"+2\"> <b> Physics 1 -- Test #3 <b> </font>'\n",
    "\n",
    "# Creating objects\n",
    "pulley = cylinder(pos=vec(0,10,-0.2), radius=0.2, color=color.blue)\n",
    "pulley.length = 0.01\n",
    "weight = sphere(pos=vec(0,10,0), radius=0.1, color=color.red)\n",
    "\n",
    "# Defining stuff\n",
    "m = 2.55\n",
    "g = -9.81\n",
    "h = 10.00\n",
    "t = 0.00\n",
    "PEi = m*g*h\n",
    "KEi = 0\n",
    "\n",
    "# Making a loop\n",
    "while h>0:\n",
    "    rate(10)\n",
    "\n",
    "# Calculating stuff\n",
    "    PE = m*g*h\n",
    "    KE = PE - PEi\n",
    "    v = g*t\n",
    "    Rot = 0.5*m*abs(v)\n",
    "    Tot = abs(PE) + abs(KE) + abs(Rot)\n",
    "\n",
    "# Updating position of the weight\n",
    "    weight.pos = vec(0,h,0)\n",
    "\n",
    "# Tracking the path of the weight / drawing a rope\n",
    "    new_sphere = sphere(pos=weight.pos, radius=0.025, color=color.green)  # optional line of code to show path of ball\n",
    "\n",
    "    \n",
    "# Updating variables\n",
    "    h = h-0.0981\n",
    "    t = t+0.0100\n",
    "    \n",
    "    scene.caption = 'Initial Potential Energy: '+str(PEi)+'\\nInitial Kinetic Energy: '+str(KEi)+'\\nPotential Energy: '+str(PE)+ '\\nKinetic Energy: '+str(KE)+ '\\nRotational Energy: '+str(Rot)+ '\\nTotal Energy: '+str(Tot)+ '\\nTime: '+str(t)\n"
   ]
  },
  {
   "cell_type": "code",
   "execution_count": null,
   "metadata": {},
   "outputs": [],
   "source": []
  }
 ],
 "metadata": {
  "kernelspec": {
   "display_name": "VPython",
   "language": "python",
   "name": "vpython"
  },
  "language_info": {
   "codemirror_mode": {
    "name": "ipython",
    "version": 3
   },
   "file_extension": ".py",
   "mimetype": "text/x-python",
   "name": "python",
   "nbconvert_exporter": "python",
   "pygments_lexer": "ipython3",
   "version": "3.7.1"
  }
 },
 "nbformat": 4,
 "nbformat_minor": 2
}
