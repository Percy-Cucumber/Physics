{
 "cells": [
  {
   "cell_type": "markdown",
   "metadata": {},
   "source": [
    "# Physics 1 -- Test #1\n",
    "*Adam Achs*"
   ]
  },
  {
   "cell_type": "code",
   "execution_count": 1,
   "metadata": {},
   "outputs": [
    {
     "data": {
      "application/javascript": [
       "if (typeof Jupyter !== \"undefined\") {require.undef(\"nbextensions/vpython_libraries/glow.min\");}else{element.textContent = ' ';}"
      ],
      "text/plain": [
       "<IPython.core.display.Javascript object>"
      ]
     },
     "metadata": {},
     "output_type": "display_data"
    },
    {
     "data": {
      "application/javascript": [
       "if (typeof Jupyter !== \"undefined\") {require.undef(\"nbextensions/vpython_libraries/glowcomm\");}else{element.textContent = ' ';}"
      ],
      "text/plain": [
       "<IPython.core.display.Javascript object>"
      ]
     },
     "metadata": {},
     "output_type": "display_data"
    },
    {
     "data": {
      "application/javascript": [
       "if (typeof Jupyter !== \"undefined\") {require.undef(\"nbextensions/vpython_libraries/jquery-ui.custom.min\");}else{element.textContent = ' ';}"
      ],
      "text/plain": [
       "<IPython.core.display.Javascript object>"
      ]
     },
     "metadata": {},
     "output_type": "display_data"
    },
    {
     "data": {
      "application/javascript": [
       "if (typeof Jupyter !== \"undefined\") {require([\"nbextensions/vpython_libraries/glow.min\"], function(){console.log(\"GLOW LOADED\");});}else{element.textContent = ' ';}"
      ],
      "text/plain": [
       "<IPython.core.display.Javascript object>"
      ]
     },
     "metadata": {},
     "output_type": "display_data"
    },
    {
     "data": {
      "application/javascript": [
       "if (typeof Jupyter !== \"undefined\") {require([\"nbextensions/vpython_libraries/glowcomm\"], function(){console.log(\"GLOWCOMM LOADED\");});}else{element.textContent = ' ';}"
      ],
      "text/plain": [
       "<IPython.core.display.Javascript object>"
      ]
     },
     "metadata": {},
     "output_type": "display_data"
    },
    {
     "data": {
      "application/javascript": [
       "if (typeof Jupyter !== \"undefined\") {require([\"nbextensions/vpython_libraries/jquery-ui.custom.min\"], function(){console.log(\"JQUERY LOADED\");});}else{element.textContent = ' ';}"
      ],
      "text/plain": [
       "<IPython.core.display.Javascript object>"
      ]
     },
     "metadata": {},
     "output_type": "display_data"
    },
    {
     "data": {
      "text/html": [
       "<div id=\"glowscript\" class=\"glowscript\"></div>"
      ],
      "text/plain": [
       "<IPython.core.display.HTML object>"
      ]
     },
     "metadata": {},
     "output_type": "display_data"
    },
    {
     "data": {
      "application/javascript": [
       "if (typeof Jupyter !== \"undefined\") { window.__context = { glowscript_container: $(\"#glowscript\").removeAttr(\"id\")};}else{ element.textContent = ' ';}"
      ],
      "text/plain": [
       "<IPython.core.display.Javascript object>"
      ]
     },
     "metadata": {},
     "output_type": "display_data"
    }
   ],
   "source": [
    "# Importing stuff\n",
    "from vpython import *"
   ]
  },
  {
   "cell_type": "code",
   "execution_count": 2,
   "metadata": {},
   "outputs": [],
   "source": [
    "# Creating the scene and making it look all pretty\n",
    "ball = sphere(pos=vector(0,2,0), color=color.orange, radius=0.125)  # ball has approximate radius of 0.125m and starts 2m above the ground \n",
    "wall = box(pos=vec(0,0,0), size=vec(25,0.01,5))                     # floor is centered at the origin and is a 5mx25m rectangular base with a height of 1cm\n",
    "scene.background = color.white                                      # get rid of the hideous black background"
   ]
  },
  {
   "cell_type": "code",
   "execution_count": 3,
   "metadata": {},
   "outputs": [],
   "source": [
    "# Defining the variables\n",
    "t=0                       # starting time\n",
    "dt=0.01                   # time interval\n",
    "mass = 0.6                # mass of the basketball\n",
    "velocity = vector(7,5,0)  # initial velocity (the throwing of the ball)\n",
    "g = vector(0,-9.8,0)      # accleleration due to gravity\n",
    "force = mass*g            # force of gravity exerted on basketball\n",
    "momentum = mass*velocity  # initial momentum"
   ]
  },
  {
   "cell_type": "code",
   "execution_count": 4,
   "metadata": {},
   "outputs": [],
   "source": [
    "# Creating a graph\n",
    "position_graph = gcurve(color=color.red)         # graph the position of the ball in red\n",
    "speed_graph = gcurve(color=color.blue)           # graph the speed of the ball in blue\n",
    "acceleration_graph = gcurve(color=color.green)   # graph the acceleration of the ball in green"
   ]
  },
  {
   "cell_type": "code",
   "execution_count": 5,
   "metadata": {},
   "outputs": [
    {
     "name": "stdout",
     "output_type": "stream",
     "text": [
      "0.42000000000000004\n",
      "0.7000000000000002\n",
      "0.9800000000000004\n",
      "1.0500000000000005\n",
      "1.2600000000000007\n",
      "1.3300000000000007\n",
      "1.4000000000000008\n",
      "1.680000000000001\n",
      "1.750000000000001\n",
      "2.100000000000001\n",
      "2.3100000000000005\n",
      "2.59\n",
      "3.009999999999999\n",
      "3.1499999999999986\n",
      "3.499999999999998\n",
      "3.6399999999999975\n",
      "3.7099999999999973\n",
      "3.919999999999997\n",
      "3.9899999999999967\n",
      "4.409999999999998\n",
      "4.549999999999999\n",
      "4.619999999999999\n",
      "4.6899999999999995\n",
      "4.76\n",
      "5.040000000000001\n",
      "5.110000000000001\n",
      "5.320000000000002\n",
      "5.390000000000002\n",
      "5.810000000000004\n",
      "5.950000000000005\n",
      "6.0900000000000056.510000000000007\n",
      "6.720000000000008\n",
      "7.000000000000009\n",
      "7.21000000000001\n",
      "7.28000000000001\n",
      "7.35000000000001\n",
      "7.490000000000011\n",
      "7.700000000000012\n",
      "7.840000000000012\n",
      "7.910000000000013\n",
      "8.190000000000014\n",
      "8.400000000000015\n",
      "8.610000000000015\n",
      "8.680000000000016\n",
      "8.750000000000016\n",
      "9.240000000000018\n"
     ]
    }
   ],
   "source": [
    "# Running the actual code\n",
    "while ball.pos.y>0:                    # program will run until the basketball hits the ground\n",
    "    # tracking\n",
    "    new_sphere = sphere(pos=ball.pos, radius=0.125, color=color.green)  # optional line of code to show path of ball\n",
    "\n",
    "    # math stuff\n",
    "    rate(20)                           # how quickly the loop runs\n",
    "    force = force                      # determening net force (in this case the force is always the same)\n",
    "    momentum = momentum + force*dt     # update momentum using force\n",
    "    velocity = momentum/mass           # update velocity using momentum\n",
    "    ball.pos = ball.pos + velocity*dt  # update ball's position using velocity\n",
    "\n",
    "    # graphing everything\n",
    "    position_graph.plot(pos=(t,ball.pos.y))        # plot the position\n",
    "    speed_graph.plot(pos=(t,velocity.y))           # plot the speed \n",
    "    acceleration_graph.plot(pos=(t,force.y/mass))  # plot the acceleration\n",
    "\n",
    "    # time management \n",
    "    t=t+dt                             # increment the time step\n",
    "    \n",
    "    # how far has the ball gone?\n",
    "    print(ball.pos.x)                  # print location of ball"
   ]
  },
  {
   "cell_type": "code",
   "execution_count": null,
   "metadata": {},
   "outputs": [],
   "source": []
  }
 ],
 "metadata": {
  "kernelspec": {
   "display_name": "VPython",
   "language": "python",
   "name": "vpython"
  },
  "language_info": {
   "codemirror_mode": {
    "name": "ipython",
    "version": 3
   },
   "file_extension": ".py",
   "mimetype": "text/x-python",
   "name": "python",
   "nbconvert_exporter": "python",
   "pygments_lexer": "ipython3",
   "version": "3.7.1"
  }
 },
 "nbformat": 4,
 "nbformat_minor": 2
}
